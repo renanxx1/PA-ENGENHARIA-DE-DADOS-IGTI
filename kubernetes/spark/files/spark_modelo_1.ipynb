{
 "cells": [
  {
   "cell_type": "code",
   "execution_count": 1,
   "metadata": {},
   "outputs": [],
   "source": [
    "from pyspark.sql import SparkSession\n",
    "from pyspark.sql.functions import *"
   ]
  },
  {
   "cell_type": "code",
   "execution_count": 2,
   "metadata": {},
   "outputs": [
    {
     "name": "stderr",
     "output_type": "stream",
     "text": [
      "22/07/10 11:23:11 WARN Utils: Your hostname, FB1005 resolves to a loopback address: 127.0.1.1; using 192.168.0.71 instead (on interface wlp0s20f3)\n",
      "22/07/10 11:23:11 WARN Utils: Set SPARK_LOCAL_IP if you need to bind to another address\n",
      "WARNING: An illegal reflective access operation has occurred\n",
      "WARNING: Illegal reflective access by org.apache.spark.unsafe.Platform (file:/opt/spark/jars/spark-unsafe_2.12-3.1.1.jar) to constructor java.nio.DirectByteBuffer(long,int)\n",
      "WARNING: Please consider reporting this to the maintainers of org.apache.spark.unsafe.Platform\n",
      "WARNING: Use --illegal-access=warn to enable warnings of further illegal reflective access operations\n",
      "WARNING: All illegal access operations will be denied in a future release\n"
     ]
    },
    {
     "name": "stdout",
     "output_type": "stream",
     "text": [
      ":: loading settings :: url = jar:file:/opt/spark/jars/ivy-2.4.0.jar!/org/apache/ivy/core/settings/ivysettings.xml\n"
     ]
    },
    {
     "name": "stderr",
     "output_type": "stream",
     "text": [
      "Ivy Default Cache set to: /home/renan/.ivy2/cache\n",
      "The jars for the packages stored in: /home/renan/.ivy2/jars\n",
      "org.apache.spark#spark-sql-kafka-0-10_2.12 added as a dependency\n",
      ":: resolving dependencies :: org.apache.spark#spark-submit-parent-53e84cb1-20ac-4e10-9288-0cfee52624ff;1.0\n",
      "\tconfs: [default]\n",
      "\tfound org.apache.spark#spark-sql-kafka-0-10_2.12;3.1.2 in central\n",
      "\tfound org.apache.spark#spark-token-provider-kafka-0-10_2.12;3.1.2 in central\n",
      "\tfound org.apache.kafka#kafka-clients;2.6.0 in central\n",
      "\tfound com.github.luben#zstd-jni;1.4.8-1 in central\n",
      "\tfound org.lz4#lz4-java;1.7.1 in central\n",
      "\tfound org.xerial.snappy#snappy-java;1.1.8.2 in central\n",
      "\tfound org.slf4j#slf4j-api;1.7.30 in central\n",
      "\tfound org.spark-project.spark#unused;1.0.0 in central\n",
      "\tfound org.apache.commons#commons-pool2;2.6.2 in central\n",
      ":: resolution report :: resolve 515ms :: artifacts dl 7ms\n",
      "\t:: modules in use:\n",
      "\tcom.github.luben#zstd-jni;1.4.8-1 from central in [default]\n",
      "\torg.apache.commons#commons-pool2;2.6.2 from central in [default]\n",
      "\torg.apache.kafka#kafka-clients;2.6.0 from central in [default]\n",
      "\torg.apache.spark#spark-sql-kafka-0-10_2.12;3.1.2 from central in [default]\n",
      "\torg.apache.spark#spark-token-provider-kafka-0-10_2.12;3.1.2 from central in [default]\n",
      "\torg.lz4#lz4-java;1.7.1 from central in [default]\n",
      "\torg.slf4j#slf4j-api;1.7.30 from central in [default]\n",
      "\torg.spark-project.spark#unused;1.0.0 from central in [default]\n",
      "\torg.xerial.snappy#snappy-java;1.1.8.2 from central in [default]\n",
      "\t---------------------------------------------------------------------\n",
      "\t|                  |            modules            ||   artifacts   |\n",
      "\t|       conf       | number| search|dwnlded|evicted|| number|dwnlded|\n",
      "\t---------------------------------------------------------------------\n",
      "\t|      default     |   9   |   0   |   0   |   0   ||   9   |   0   |\n",
      "\t---------------------------------------------------------------------\n",
      ":: retrieving :: org.apache.spark#spark-submit-parent-53e84cb1-20ac-4e10-9288-0cfee52624ff\n",
      "\tconfs: [default]\n",
      "\t0 artifacts copied, 9 already retrieved (0kB/13ms)\n",
      "22/07/10 11:23:12 WARN NativeCodeLoader: Unable to load native-hadoop library for your platform... using builtin-java classes where applicable\n",
      "Using Spark's default log4j profile: org/apache/spark/log4j-defaults.properties\n",
      "Setting default log level to \"WARN\".\n",
      "To adjust logging level use sc.setLogLevel(newLevel). For SparkR, use setLogLevel(newLevel).\n"
     ]
    }
   ],
   "source": [
    "spark = ( SparkSession.builder.appName(\"spark_processing_api\")\n",
    ".config(\"spark.jars.packages\", \"org.apache.spark:spark-sql-kafka-0-10_2.12:3.1.2\")\n",
    ".getOrCreate() )\n",
    "\n",
    "spark.sparkContext.setLogLevel(\"WARN\")"
   ]
  },
  {
   "cell_type": "code",
   "execution_count": null,
   "metadata": {},
   "outputs": [],
   "source": [
    "bootstrap_server = '10.108.123.238:9092'\n",
    "\n",
    "topics = [\n",
    "'ingestion_src_api_iq_BTCUSD_1_json', 'ingestion_src_api_iq_BTCUSD_5_json', 'ingestion_src_api_iq_BTCUSD_60_json', 'ingestion_src_api_iq_BTCUSD_300_json', 'ingestion_src_api_iq_BTCUSD_900_json', 'ingestion_src_api_iq_BTCUSD_1800_json', 'ingestion_src_api_iq_BTCUSD_3600_json', 'ingestion_src_api_iq_BTCUSD_14400_json', 'ingestion_src_api_iq_BTCUSD_86400_json',\n",
    "'ingestion_src_api_iq_XRPUSD_1_json', 'ingestion_src_api_iq_XRPUSD_5_json', 'ingestion_src_api_iq_XRPUSD_60_json', 'ingestion_src_api_iq_XRPUSD_300_json', 'ingestion_src_api_iq_XRPUSD_900_json', 'ingestion_src_api_iq_XRPUSD_1800_json', 'ingestion_src_api_iq_XRPUSD_3600_json', 'ingestion_src_api_iq_XRPUSD_14400_json', 'ingestion_src_api_iq_XRPUSD_86400_json',\n",
    "'ingestion_src_api_iq_ETHUSD_1_json', 'ingestion_src_api_iq_ETHUSD_5_json', 'ingestion_src_api_iq_ETHUSD_60_json', 'ingestion_src_api_iq_ETHUSD_300_json', 'ingestion_src_api_iq_ETHUSD_900_json', 'ingestion_src_api_iq_ETHUSD_1800_json', 'ingestion_src_api_iq_ETHUSD_3600_json', 'ingestion_src_api_iq_ETHUSD_14400_json', 'ingestion_src_api_iq_ETHUSD_86400_json',\n",
    "'ingestion_src_api_iq_OMGUSD_1_json', 'ingestion_src_api_iq_OMGUSD_5_json', 'ingestion_src_api_iq_OMGUSD_60_json', 'ingestion_src_api_iq_OMGUSD_300_json', 'ingestion_src_api_iq_OMGUSD_900_json', 'ingestion_src_api_iq_OMGUSD_1800_json', 'ingestion_src_api_iq_OMGUSD_3600_json', 'ingestion_src_api_iq_OMGUSD_14400_json', 'ingestion_src_api_iq_OMGUSD_86400_json',\n",
    "'ingestion_src_api_iq_TRXUSD_1_json', 'ingestion_src_api_iq_TRXUSD_5_json', 'ingestion_src_api_iq_TRXUSD_60_json', 'ingestion_src_api_iq_TRXUSD_300_json', 'ingestion_src_api_iq_TRXUSD_900_json', 'ingestion_src_api_iq_TRXUSD_1800_json', 'ingestion_src_api_iq_TRXUSD_3600_json', 'ingestion_src_api_iq_TRXUSD_14400_json', 'ingestion_src_api_iq_TRXUSD_86400_json',\n",
    "]\n",
    "\n",
    "schema = \"active_id INT, size INT, at STRING, from STRING, to STRING, id INT, open FLOAT, close FLOAT, min FLOAT, max FLOAT, ask FLOAT, bid FLOAT, volume FLOAT, phase STRING\"\n",
    "\n",
    "\n",
    "for topic in topics:\n",
    "    df = (spark.readStream.format(\"kafka\")\n",
    "                        .option(\"kafka.bootstrap.servers\", bootstrap_server)\n",
    "                        .option(\"subscribe\", topic)\n",
    "                        .option(\"startingOffsets\", \"latest\")\n",
    "                        .load()\n",
    "                        .select(from_json(col(\"value\").cast(\"string\"), schema).alias(\"value\")) \n",
    "                        )\n",
    "\n",
    "    df = (df.select(to_json(struct(expr(\"value.active_id as active_id\"), expr(\"value.size as timeframe\"),\n",
    "                        expr(\"cast(value.at / 1000000000 as timestamp) as executed_at\"), expr(\"FROM_UNIXTIME(value.from) as candle_from\"), \n",
    "                        expr(\"FROM_UNIXTIME(value.to) as candle_to\"), expr(\"value.id as period\"), \n",
    "                        \"value.open\", \"value.close\", \"value.min\", \"value.max\", \"value.ask\", \"value.bid\", \"value.volume\")).alias(\"value\"))\n",
    "                        .writeStream.format(\"kafka\").option(\"kafka.bootstrap.servers\", bootstrap_server)\n",
    "                        .option(\"topic\", topic.replace('ingestion', 'processed'))\n",
    "                        .option(\"checkpointLocation\", F\"./checkpoint_{topic.replace('ingestion', 'processed')}/\")\n",
    "                        .start()   \n",
    "                        )\n",
    "    "
   ]
  },
  {
   "cell_type": "code",
   "execution_count": null,
   "metadata": {},
   "outputs": [],
   "source": []
  }
 ],
 "metadata": {
  "kernelspec": {
   "display_name": "Python 3.8.10 64-bit",
   "language": "python",
   "name": "python3"
  },
  "language_info": {
   "codemirror_mode": {
    "name": "ipython",
    "version": 3
   },
   "file_extension": ".py",
   "mimetype": "text/x-python",
   "name": "python",
   "nbconvert_exporter": "python",
   "pygments_lexer": "ipython3",
   "version": "3.8.10"
  },
  "orig_nbformat": 4,
  "vscode": {
   "interpreter": {
    "hash": "916dbcbb3f70747c44a77c7bcd40155683ae19c65e1c03b4aa3499c5328201f1"
   }
  }
 },
 "nbformat": 4,
 "nbformat_minor": 2
}
