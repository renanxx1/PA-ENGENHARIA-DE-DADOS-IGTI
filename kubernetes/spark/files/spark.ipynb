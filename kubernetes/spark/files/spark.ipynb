{
 "cells": [
  {
   "cell_type": "code",
   "execution_count": 1,
   "metadata": {},
   "outputs": [],
   "source": [
    "from pyspark.sql import SparkSession\n",
    "from pyspark.sql.functions import *"
   ]
  },
  {
   "cell_type": "code",
   "execution_count": 2,
   "metadata": {},
   "outputs": [
    {
     "name": "stderr",
     "output_type": "stream",
     "text": [
      "22/07/10 11:18:31 WARN Utils: Your hostname, FB1005 resolves to a loopback address: 127.0.1.1; using 192.168.0.71 instead (on interface wlp0s20f3)\n",
      "22/07/10 11:18:31 WARN Utils: Set SPARK_LOCAL_IP if you need to bind to another address\n",
      "WARNING: An illegal reflective access operation has occurred\n",
      "WARNING: Illegal reflective access by org.apache.spark.unsafe.Platform (file:/opt/spark/jars/spark-unsafe_2.12-3.1.1.jar) to constructor java.nio.DirectByteBuffer(long,int)\n",
      "WARNING: Please consider reporting this to the maintainers of org.apache.spark.unsafe.Platform\n",
      "WARNING: Use --illegal-access=warn to enable warnings of further illegal reflective access operations\n",
      "WARNING: All illegal access operations will be denied in a future release\n"
     ]
    },
    {
     "name": "stdout",
     "output_type": "stream",
     "text": [
      ":: loading settings :: url = jar:file:/opt/spark/jars/ivy-2.4.0.jar!/org/apache/ivy/core/settings/ivysettings.xml\n"
     ]
    },
    {
     "name": "stderr",
     "output_type": "stream",
     "text": [
      "Ivy Default Cache set to: /home/renan/.ivy2/cache\n",
      "The jars for the packages stored in: /home/renan/.ivy2/jars\n",
      "org.apache.spark#spark-sql-kafka-0-10_2.12 added as a dependency\n",
      ":: resolving dependencies :: org.apache.spark#spark-submit-parent-c3eda77c-d1c4-42be-9900-0ac8e0bf31ef;1.0\n",
      "\tconfs: [default]\n",
      "\tfound org.apache.spark#spark-sql-kafka-0-10_2.12;3.1.2 in central\n",
      "\tfound org.apache.spark#spark-token-provider-kafka-0-10_2.12;3.1.2 in central\n",
      "\tfound org.apache.kafka#kafka-clients;2.6.0 in central\n",
      "\tfound com.github.luben#zstd-jni;1.4.8-1 in central\n",
      "\tfound org.lz4#lz4-java;1.7.1 in central\n",
      "\tfound org.xerial.snappy#snappy-java;1.1.8.2 in central\n",
      "\tfound org.slf4j#slf4j-api;1.7.30 in central\n",
      "\tfound org.spark-project.spark#unused;1.0.0 in central\n",
      "\tfound org.apache.commons#commons-pool2;2.6.2 in central\n",
      ":: resolution report :: resolve 612ms :: artifacts dl 13ms\n",
      "\t:: modules in use:\n",
      "\tcom.github.luben#zstd-jni;1.4.8-1 from central in [default]\n",
      "\torg.apache.commons#commons-pool2;2.6.2 from central in [default]\n",
      "\torg.apache.kafka#kafka-clients;2.6.0 from central in [default]\n",
      "\torg.apache.spark#spark-sql-kafka-0-10_2.12;3.1.2 from central in [default]\n",
      "\torg.apache.spark#spark-token-provider-kafka-0-10_2.12;3.1.2 from central in [default]\n",
      "\torg.lz4#lz4-java;1.7.1 from central in [default]\n",
      "\torg.slf4j#slf4j-api;1.7.30 from central in [default]\n",
      "\torg.spark-project.spark#unused;1.0.0 from central in [default]\n",
      "\torg.xerial.snappy#snappy-java;1.1.8.2 from central in [default]\n",
      "\t---------------------------------------------------------------------\n",
      "\t|                  |            modules            ||   artifacts   |\n",
      "\t|       conf       | number| search|dwnlded|evicted|| number|dwnlded|\n",
      "\t---------------------------------------------------------------------\n",
      "\t|      default     |   9   |   0   |   0   |   0   ||   9   |   0   |\n",
      "\t---------------------------------------------------------------------\n",
      ":: retrieving :: org.apache.spark#spark-submit-parent-c3eda77c-d1c4-42be-9900-0ac8e0bf31ef\n",
      "\tconfs: [default]\n",
      "\t0 artifacts copied, 9 already retrieved (0kB/10ms)\n",
      "22/07/10 11:18:32 WARN NativeCodeLoader: Unable to load native-hadoop library for your platform... using builtin-java classes where applicable\n",
      "Using Spark's default log4j profile: org/apache/spark/log4j-defaults.properties\n",
      "Setting default log level to \"WARN\".\n",
      "To adjust logging level use sc.setLogLevel(newLevel). For SparkR, use setLogLevel(newLevel).\n"
     ]
    }
   ],
   "source": [
    "spark = ( SparkSession.builder.appName(\"spark_processing_api\")\n",
    ".config(\"spark.jars.packages\", \"org.apache.spark:spark-sql-kafka-0-10_2.12:3.1.2\")\n",
    ".getOrCreate() )\n",
    "\n",
    "spark.sparkContext.setLogLevel(\"WARN\")"
   ]
  },
  {
   "cell_type": "code",
   "execution_count": 3,
   "metadata": {},
   "outputs": [
    {
     "name": "stderr",
     "output_type": "stream",
     "text": [
      "22/07/10 11:18:38 WARN StreamingQueryManager: Temporary checkpoint location created which is deleted normally when the query didn't fail: /tmp/temporary-72c69a31-f308-47db-aac0-f13ac401d561. If it's required to delete it under any circumstances, please set spark.sql.streaming.forceDeleteTempCheckpointLocation to true. Important to know deleting temp checkpoint folder is best effort.\n",
      "                                                                                \r"
     ]
    },
    {
     "name": "stdout",
     "output_type": "stream",
     "text": [
      "-------------------------------------------\n",
      "Batch: 0\n",
      "-------------------------------------------\n",
      "+----------------------------------+---------+----+---------+-------+\n",
      "|topic                             |active_id|size|id       |open   |\n",
      "+----------------------------------+---------+----+---------+-------+\n",
      "|processed_src_api_iq_OMGUSD_1_json|825      |1   |147354536|1.85905|\n",
      "+----------------------------------+---------+----+---------+-------+\n",
      "\n"
     ]
    },
    {
     "name": "stderr",
     "output_type": "stream",
     "text": [
      "                                                                                \r"
     ]
    },
    {
     "name": "stdout",
     "output_type": "stream",
     "text": [
      "-------------------------------------------\n",
      "Batch: 1\n",
      "-------------------------------------------\n",
      "+----------------------------------+---------+----+---------+---------+\n",
      "|topic                             |active_id|size|id       |open     |\n",
      "+----------------------------------+---------+----+---------+---------+\n",
      "|processed_src_api_iq_TRXUSD_1_json|858      |1   |140240446|0.068565 |\n",
      "|processed_src_api_iq_TRXUSD_1_json|858      |1   |140240445|0.068565 |\n",
      "|processed_src_api_iq_TRXUSD_1_json|858      |1   |140240447|0.068565 |\n",
      "|processed_src_api_iq_TRXUSD_1_json|858      |1   |140240448|0.068575 |\n",
      "|processed_src_api_iq_XRPUSD_1_json|817      |1   |148084740|0.330995 |\n",
      "|processed_src_api_iq_XRPUSD_1_json|817      |1   |148084741|0.33078  |\n",
      "|processed_src_api_iq_ETHUSD_1_json|818      |1   |148084740|1170.214 |\n",
      "|processed_src_api_iq_ETHUSD_1_json|818      |1   |148084742|1170.752 |\n",
      "|processed_src_api_iq_BTCUSD_1_json|816      |1   |148084741|21020.621|\n",
      "|processed_src_api_iq_OMGUSD_1_json|825      |1   |147354539|1.85955  |\n",
      "|processed_src_api_iq_OMGUSD_1_json|825      |1   |147354537|1.85905  |\n",
      "|processed_src_api_iq_OMGUSD_1_json|825      |1   |147354538|1.85905  |\n",
      "|processed_src_api_iq_XRPUSD_1_json|817      |1   |148084742|0.331115 |\n",
      "|processed_src_api_iq_ETHUSD_1_json|818      |1   |148084741|1170.778 |\n",
      "|processed_src_api_iq_ETHUSD_1_json|818      |1   |148084743|1170.3405|\n",
      "|processed_src_api_iq_BTCUSD_1_json|816      |1   |148084742|21023.973|\n",
      "|processed_src_api_iq_BTCUSD_1_json|816      |1   |148084740|21016.355|\n",
      "+----------------------------------+---------+----+---------+---------+\n",
      "\n"
     ]
    },
    {
     "name": "stderr",
     "output_type": "stream",
     "text": [
      "                                                                                \r"
     ]
    },
    {
     "name": "stdout",
     "output_type": "stream",
     "text": [
      "-------------------------------------------\n",
      "Batch: 2\n",
      "-------------------------------------------\n",
      "+----------------------------------+---------+----+---------+---------+\n",
      "|topic                             |active_id|size|id       |open     |\n",
      "+----------------------------------+---------+----+---------+---------+\n",
      "|processed_src_api_iq_TRXUSD_1_json|858      |1   |140240449|0.068585 |\n",
      "|processed_src_api_iq_XRPUSD_1_json|817      |1   |148084744|0.330945 |\n",
      "|processed_src_api_iq_ETHUSD_5_json|818      |5   |29616949 |1170.241 |\n",
      "|processed_src_api_iq_ETHUSD_1_json|818      |1   |148084745|1170.7075|\n",
      "|processed_src_api_iq_BTCUSD_5_json|816      |5   |29616949 |21020.615|\n",
      "|processed_src_api_iq_XRPUSD_1_json|817      |1   |148084743|0.331075 |\n",
      "|processed_src_api_iq_OMGUSD_1_json|825      |1   |147354540|1.86     |\n",
      "|processed_src_api_iq_ETHUSD_1_json|818      |1   |148084744|1170.241 |\n",
      "|processed_src_api_iq_BTCUSD_1_json|816      |1   |148084744|21021.973|\n",
      "|processed_src_api_iq_OMGUSD_1_json|825      |1   |147354541|1.86     |\n",
      "|processed_src_api_iq_OMGUSD_5_json|825      |5   |29470909 |1.86     |\n",
      "|processed_src_api_iq_BTCUSD_1_json|816      |1   |148084743|21020.615|\n",
      "|processed_src_api_iq_TRXUSD_5_json|858      |5   |28048090 |0.068585 |\n",
      "|processed_src_api_iq_XRPUSD_5_json|817      |5   |29616949 |0.331075 |\n",
      "+----------------------------------+---------+----+---------+---------+\n",
      "\n"
     ]
    },
    {
     "name": "stderr",
     "output_type": "stream",
     "text": [
      "                                                                                \r"
     ]
    },
    {
     "name": "stdout",
     "output_type": "stream",
     "text": [
      "-------------------------------------------\n",
      "Batch: 3\n",
      "-------------------------------------------\n",
      "+----------------------------------+---------+----+---------+---------+\n",
      "|topic                             |active_id|size|id       |open     |\n",
      "+----------------------------------+---------+----+---------+---------+\n",
      "|processed_src_api_iq_TRXUSD_1_json|858      |1   |140240450|0.068585 |\n",
      "|processed_src_api_iq_OMGUSD_1_json|825      |1   |147354542|1.86     |\n",
      "|processed_src_api_iq_TRXUSD_1_json|858      |1   |140240451|0.068585 |\n",
      "|processed_src_api_iq_XRPUSD_1_json|817      |1   |148084745|0.33097  |\n",
      "|processed_src_api_iq_XRPUSD_1_json|817      |1   |148084746|0.330935 |\n",
      "|processed_src_api_iq_ETHUSD_1_json|818      |1   |148084746|1171.3295|\n",
      "|processed_src_api_iq_BTCUSD_1_json|816      |1   |148084745|21025.434|\n",
      "+----------------------------------+---------+----+---------+---------+\n",
      "\n"
     ]
    },
    {
     "name": "stderr",
     "output_type": "stream",
     "text": [
      "                                                                                \r"
     ]
    },
    {
     "name": "stdout",
     "output_type": "stream",
     "text": [
      "-------------------------------------------\n",
      "Batch: 4\n",
      "-------------------------------------------\n",
      "+----------------------------------+---------+----+---------+---------+\n",
      "|topic                             |active_id|size|id       |open     |\n",
      "+----------------------------------+---------+----+---------+---------+\n",
      "|processed_src_api_iq_OMGUSD_1_json|825      |1   |147354543|1.86     |\n",
      "|processed_src_api_iq_OMGUSD_1_json|825      |1   |147354544|1.861    |\n",
      "|processed_src_api_iq_TRXUSD_1_json|858      |1   |140240452|0.068585 |\n",
      "|processed_src_api_iq_XRPUSD_1_json|817      |1   |148084747|0.331005 |\n",
      "|processed_src_api_iq_ETHUSD_1_json|818      |1   |148084747|1170.93  |\n",
      "|processed_src_api_iq_BTCUSD_1_json|816      |1   |148084746|21026.604|\n",
      "+----------------------------------+---------+----+---------+---------+\n",
      "\n"
     ]
    },
    {
     "name": "stderr",
     "output_type": "stream",
     "text": [
      "                                                                                \r"
     ]
    },
    {
     "name": "stdout",
     "output_type": "stream",
     "text": [
      "-------------------------------------------\n",
      "Batch: 5\n",
      "-------------------------------------------\n",
      "+----------------------------------+---------+----+---------+---------+\n",
      "|topic                             |active_id|size|id       |open     |\n",
      "+----------------------------------+---------+----+---------+---------+\n",
      "|processed_src_api_iq_TRXUSD_1_json|858      |1   |140240453|0.068585 |\n",
      "|processed_src_api_iq_OMGUSD_5_json|825      |5   |29470910 |1.861    |\n",
      "|processed_src_api_iq_BTCUSD_5_json|816      |5   |29616950 |21031.486|\n",
      "|processed_src_api_iq_BTCUSD_1_json|816      |1   |148084748|21031.486|\n",
      "|processed_src_api_iq_ETHUSD_1_json|818      |1   |148084748|1170.7465|\n",
      "|processed_src_api_iq_BTCUSD_1_json|816      |1   |148084747|21030.783|\n",
      "+----------------------------------+---------+----+---------+---------+\n",
      "\n"
     ]
    },
    {
     "name": "stderr",
     "output_type": "stream",
     "text": [
      "                                                                                \r"
     ]
    },
    {
     "name": "stdout",
     "output_type": "stream",
     "text": [
      "-------------------------------------------\n",
      "Batch: 6\n",
      "-------------------------------------------\n",
      "+----------------------------------+---------+----+---------+---------+\n",
      "|topic                             |active_id|size|id       |open     |\n",
      "+----------------------------------+---------+----+---------+---------+\n",
      "|processed_src_api_iq_TRXUSD_1_json|858      |1   |140240454|0.068585 |\n",
      "|processed_src_api_iq_XRPUSD_5_json|817      |5   |29616950 |0.33115  |\n",
      "|processed_src_api_iq_XRPUSD_1_json|817      |1   |148084749|0.331065 |\n",
      "|processed_src_api_iq_ETHUSD_1_json|818      |1   |148084749|1170.6235|\n",
      "|processed_src_api_iq_ETHUSD_5_json|818      |5   |29616950 |1170.6235|\n",
      "|processed_src_api_iq_OMGUSD_1_json|825      |1   |147354545|1.861    |\n",
      "|processed_src_api_iq_XRPUSD_1_json|817      |1   |148084748|0.33115  |\n",
      "|processed_src_api_iq_TRXUSD_5_json|858      |5   |28048091 |0.068585 |\n",
      "+----------------------------------+---------+----+---------+---------+\n",
      "\n"
     ]
    },
    {
     "name": "stderr",
     "output_type": "stream",
     "text": [
      "                                                                                \r"
     ]
    },
    {
     "name": "stdout",
     "output_type": "stream",
     "text": [
      "-------------------------------------------\n",
      "Batch: 7\n",
      "-------------------------------------------\n",
      "+----------------------------------+---------+----+---------+---------+\n",
      "|topic                             |active_id|size|id       |open     |\n",
      "+----------------------------------+---------+----+---------+---------+\n",
      "|processed_src_api_iq_ETHUSD_1_json|818      |1   |148084750|1170.535 |\n",
      "|processed_src_api_iq_OMGUSD_1_json|825      |1   |147354546|1.861    |\n",
      "|processed_src_api_iq_BTCUSD_1_json|816      |1   |148084749|21032.613|\n",
      "|processed_src_api_iq_OMGUSD_1_json|825      |1   |147354547|1.861    |\n",
      "+----------------------------------+---------+----+---------+---------+\n",
      "\n",
      "-------------------------------------------\n",
      "Batch: 8\n",
      "-------------------------------------------\n",
      "+----------------------------------+---------+----+---------+---------+\n",
      "|topic                             |active_id|size|id       |open     |\n",
      "+----------------------------------+---------+----+---------+---------+\n",
      "|processed_src_api_iq_TRXUSD_1_json|858      |1   |140240455|0.068595 |\n",
      "|processed_src_api_iq_TRXUSD_1_json|858      |1   |140240456|0.068595 |\n",
      "|processed_src_api_iq_BTCUSD_1_json|816      |1   |148084751|21036.049|\n",
      "|processed_src_api_iq_XRPUSD_1_json|817      |1   |148084750|0.33113  |\n",
      "|processed_src_api_iq_ETHUSD_1_json|818      |1   |148084751|1171.973 |\n",
      "|processed_src_api_iq_BTCUSD_1_json|816      |1   |148084750|21035.451|\n",
      "+----------------------------------+---------+----+---------+---------+\n",
      "\n"
     ]
    },
    {
     "name": "stderr",
     "output_type": "stream",
     "text": [
      "                                                                                \r"
     ]
    },
    {
     "name": "stdout",
     "output_type": "stream",
     "text": [
      "-------------------------------------------\n",
      "Batch: 9\n",
      "-------------------------------------------\n",
      "+----------------------------------+---------+----+---------+--------+\n",
      "|topic                             |active_id|size|id       |open    |\n",
      "+----------------------------------+---------+----+---------+--------+\n",
      "|processed_src_api_iq_TRXUSD_1_json|858      |1   |140240457|0.068595|\n",
      "|processed_src_api_iq_XRPUSD_1_json|817      |1   |148084751|0.33136 |\n",
      "|processed_src_api_iq_OMGUSD_1_json|825      |1   |147354548|1.861   |\n",
      "|processed_src_api_iq_ETHUSD_1_json|818      |1   |148084752|1171.12 |\n",
      "+----------------------------------+---------+----+---------+--------+\n",
      "\n",
      "-------------------------------------------\n",
      "Batch: 10\n",
      "-------------------------------------------\n",
      "+----------------------------------+---------+----+---------+---------+\n",
      "|topic                             |active_id|size|id       |open     |\n",
      "+----------------------------------+---------+----+---------+---------+\n",
      "|processed_src_api_iq_OMGUSD_1_json|825      |1   |147354549|1.862    |\n",
      "|processed_src_api_iq_XRPUSD_1_json|817      |1   |148084752|0.331605 |\n",
      "|processed_src_api_iq_ETHUSD_1_json|818      |1   |148084753|1171.5465|\n",
      "|processed_src_api_iq_BTCUSD_1_json|816      |1   |148084752|21037.514|\n",
      "+----------------------------------+---------+----+---------+---------+\n",
      "\n"
     ]
    },
    {
     "ename": "KeyboardInterrupt",
     "evalue": "",
     "output_type": "error",
     "traceback": [
      "\u001b[0;31m---------------------------------------------------------------------------\u001b[0m",
      "\u001b[0;31mKeyboardInterrupt\u001b[0m                         Traceback (most recent call last)",
      "\u001b[1;32m/home/renan/Área de Trabalho/PA-ED-IGTI/kubernetes/spark/files/spark.ipynb Cell 3\u001b[0m in \u001b[0;36m<cell line: 13>\u001b[0;34m()\u001b[0m\n\u001b[1;32m      <a href='vscode-notebook-cell:/home/renan/%C3%81rea%20de%20Trabalho/PA-ED-IGTI/kubernetes/spark/files/spark.ipynb#ch0000002?line=2'>3</a>\u001b[0m topics \u001b[39m=\u001b[39m [\n\u001b[1;32m      <a href='vscode-notebook-cell:/home/renan/%C3%81rea%20de%20Trabalho/PA-ED-IGTI/kubernetes/spark/files/spark.ipynb#ch0000002?line=3'>4</a>\u001b[0m \u001b[39m'\u001b[39m\u001b[39mingestion_src_api_iq_BTCUSD_1_json\u001b[39m\u001b[39m'\u001b[39m, \u001b[39m'\u001b[39m\u001b[39mingestion_src_api_iq_BTCUSD_5_json\u001b[39m\u001b[39m'\u001b[39m, \u001b[39m'\u001b[39m\u001b[39mingestion_src_api_iq_BTCUSD_60_json\u001b[39m\u001b[39m'\u001b[39m, \u001b[39m'\u001b[39m\u001b[39mingestion_src_api_iq_BTCUSD_300_json\u001b[39m\u001b[39m'\u001b[39m, \u001b[39m'\u001b[39m\u001b[39mingestion_src_api_iq_BTCUSD_900_json\u001b[39m\u001b[39m'\u001b[39m, \u001b[39m'\u001b[39m\u001b[39mingestion_src_api_iq_BTCUSD_1800_json\u001b[39m\u001b[39m'\u001b[39m, \u001b[39m'\u001b[39m\u001b[39mingestion_src_api_iq_BTCUSD_3600_json\u001b[39m\u001b[39m'\u001b[39m, \u001b[39m'\u001b[39m\u001b[39mingestion_src_api_iq_BTCUSD_14400_json\u001b[39m\u001b[39m'\u001b[39m, \u001b[39m'\u001b[39m\u001b[39mingestion_src_api_iq_BTCUSD_86400_json\u001b[39m\u001b[39m'\u001b[39m,\n\u001b[1;32m      <a href='vscode-notebook-cell:/home/renan/%C3%81rea%20de%20Trabalho/PA-ED-IGTI/kubernetes/spark/files/spark.ipynb#ch0000002?line=4'>5</a>\u001b[0m \u001b[39m'\u001b[39m\u001b[39mingestion_src_api_iq_XRPUSD_1_json\u001b[39m\u001b[39m'\u001b[39m, \u001b[39m'\u001b[39m\u001b[39mingestion_src_api_iq_XRPUSD_5_json\u001b[39m\u001b[39m'\u001b[39m, \u001b[39m'\u001b[39m\u001b[39mingestion_src_api_iq_XRPUSD_60_json\u001b[39m\u001b[39m'\u001b[39m, \u001b[39m'\u001b[39m\u001b[39mingestion_src_api_iq_XRPUSD_300_json\u001b[39m\u001b[39m'\u001b[39m, \u001b[39m'\u001b[39m\u001b[39mingestion_src_api_iq_XRPUSD_900_json\u001b[39m\u001b[39m'\u001b[39m, \u001b[39m'\u001b[39m\u001b[39mingestion_src_api_iq_XRPUSD_1800_json\u001b[39m\u001b[39m'\u001b[39m, \u001b[39m'\u001b[39m\u001b[39mingestion_src_api_iq_XRPUSD_3600_json\u001b[39m\u001b[39m'\u001b[39m, \u001b[39m'\u001b[39m\u001b[39mingestion_src_api_iq_XRPUSD_14400_json\u001b[39m\u001b[39m'\u001b[39m, \u001b[39m'\u001b[39m\u001b[39mingestion_src_api_iq_XRPUSD_86400_json\u001b[39m\u001b[39m'\u001b[39m,\n\u001b[0;32m   (...)\u001b[0m\n\u001b[1;32m      <a href='vscode-notebook-cell:/home/renan/%C3%81rea%20de%20Trabalho/PA-ED-IGTI/kubernetes/spark/files/spark.ipynb#ch0000002?line=7'>8</a>\u001b[0m \u001b[39m'\u001b[39m\u001b[39mingestion_src_api_iq_TRXUSD_1_json\u001b[39m\u001b[39m'\u001b[39m, \u001b[39m'\u001b[39m\u001b[39mingestion_src_api_iq_TRXUSD_5_json\u001b[39m\u001b[39m'\u001b[39m, \u001b[39m'\u001b[39m\u001b[39mingestion_src_api_iq_TRXUSD_60_json\u001b[39m\u001b[39m'\u001b[39m, \u001b[39m'\u001b[39m\u001b[39mingestion_src_api_iq_TRXUSD_300_json\u001b[39m\u001b[39m'\u001b[39m, \u001b[39m'\u001b[39m\u001b[39mingestion_src_api_iq_TRXUSD_900_json\u001b[39m\u001b[39m'\u001b[39m, \u001b[39m'\u001b[39m\u001b[39mingestion_src_api_iq_TRXUSD_1800_json\u001b[39m\u001b[39m'\u001b[39m, \u001b[39m'\u001b[39m\u001b[39mingestion_src_api_iq_TRXUSD_3600_json\u001b[39m\u001b[39m'\u001b[39m, \u001b[39m'\u001b[39m\u001b[39mingestion_src_api_iq_TRXUSD_14400_json\u001b[39m\u001b[39m'\u001b[39m, \u001b[39m'\u001b[39m\u001b[39mingestion_src_api_iq_TRXUSD_86400_json\u001b[39m\u001b[39m'\u001b[39m,\n\u001b[1;32m      <a href='vscode-notebook-cell:/home/renan/%C3%81rea%20de%20Trabalho/PA-ED-IGTI/kubernetes/spark/files/spark.ipynb#ch0000002?line=8'>9</a>\u001b[0m ]\n\u001b[1;32m     <a href='vscode-notebook-cell:/home/renan/%C3%81rea%20de%20Trabalho/PA-ED-IGTI/kubernetes/spark/files/spark.ipynb#ch0000002?line=10'>11</a>\u001b[0m schema \u001b[39m=\u001b[39m \u001b[39m\"\u001b[39m\u001b[39mactive_id INT, size INT, at STRING, from STRING, to STRING, id INT, open FLOAT, close FLOAT, min FLOAT, max FLOAT, ask FLOAT, bid FLOAT, volume FLOAT, phase STRING\u001b[39m\u001b[39m\"\u001b[39m\n\u001b[0;32m---> <a href='vscode-notebook-cell:/home/renan/%C3%81rea%20de%20Trabalho/PA-ED-IGTI/kubernetes/spark/files/spark.ipynb#ch0000002?line=12'>13</a>\u001b[0m df \u001b[39m=\u001b[39m (spark\u001b[39m.\u001b[39;49mreadStream\u001b[39m.\u001b[39;49mformat(\u001b[39m\"\u001b[39;49m\u001b[39mkafka\u001b[39;49m\u001b[39m\"\u001b[39;49m)\n\u001b[1;32m     <a href='vscode-notebook-cell:/home/renan/%C3%81rea%20de%20Trabalho/PA-ED-IGTI/kubernetes/spark/files/spark.ipynb#ch0000002?line=13'>14</a>\u001b[0m     \u001b[39m.\u001b[39;49moption(\u001b[39m\"\u001b[39;49m\u001b[39mkafka.bootstrap.servers\u001b[39;49m\u001b[39m\"\u001b[39;49m, bootstrap_server)\n\u001b[1;32m     <a href='vscode-notebook-cell:/home/renan/%C3%81rea%20de%20Trabalho/PA-ED-IGTI/kubernetes/spark/files/spark.ipynb#ch0000002?line=14'>15</a>\u001b[0m     \u001b[39m.\u001b[39;49moption(\u001b[39m\"\u001b[39;49m\u001b[39msubscribePattern\u001b[39;49m\u001b[39m\"\u001b[39;49m, \u001b[39m\"\u001b[39;49m\u001b[39mingestion_src_api.*\u001b[39;49m\u001b[39m\"\u001b[39;49m)\n\u001b[1;32m     <a href='vscode-notebook-cell:/home/renan/%C3%81rea%20de%20Trabalho/PA-ED-IGTI/kubernetes/spark/files/spark.ipynb#ch0000002?line=15'>16</a>\u001b[0m     \u001b[39m.\u001b[39;49moption(\u001b[39m\"\u001b[39;49m\u001b[39mstartingOffsets\u001b[39;49m\u001b[39m\"\u001b[39;49m, \u001b[39m\"\u001b[39;49m\u001b[39mlatest\u001b[39;49m\u001b[39m\"\u001b[39;49m)\n\u001b[1;32m     <a href='vscode-notebook-cell:/home/renan/%C3%81rea%20de%20Trabalho/PA-ED-IGTI/kubernetes/spark/files/spark.ipynb#ch0000002?line=16'>17</a>\u001b[0m     \u001b[39m.\u001b[39;49mload()\n\u001b[1;32m     <a href='vscode-notebook-cell:/home/renan/%C3%81rea%20de%20Trabalho/PA-ED-IGTI/kubernetes/spark/files/spark.ipynb#ch0000002?line=17'>18</a>\u001b[0m     \u001b[39m.\u001b[39;49mselect(col(\u001b[39m\"\u001b[39;49m\u001b[39mtopic\u001b[39;49m\u001b[39m\"\u001b[39;49m)\u001b[39m.\u001b[39;49mcast(\u001b[39m\"\u001b[39;49m\u001b[39mstring\u001b[39;49m\u001b[39m\"\u001b[39;49m), from_json(col(\u001b[39m\"\u001b[39;49m\u001b[39mvalue\u001b[39;49m\u001b[39m\"\u001b[39;49m)\u001b[39m.\u001b[39;49mcast(\u001b[39m\"\u001b[39;49m\u001b[39mstring\u001b[39;49m\u001b[39m\"\u001b[39;49m), schema)\u001b[39m.\u001b[39;49malias(\u001b[39m\"\u001b[39;49m\u001b[39mvalue\u001b[39;49m\u001b[39m\"\u001b[39;49m)) \n\u001b[1;32m     <a href='vscode-notebook-cell:/home/renan/%C3%81rea%20de%20Trabalho/PA-ED-IGTI/kubernetes/spark/files/spark.ipynb#ch0000002?line=18'>19</a>\u001b[0m     \u001b[39m.\u001b[39;49mwithColumn(\u001b[39m\"\u001b[39;49m\u001b[39mtopic\u001b[39;49m\u001b[39m\"\u001b[39;49m, regexp_replace(\u001b[39m\"\u001b[39;49m\u001b[39mtopic\u001b[39;49m\u001b[39m\"\u001b[39;49m, \u001b[39m\"\u001b[39;49m\u001b[39mingestion\u001b[39;49m\u001b[39m\"\u001b[39;49m, \u001b[39m\"\u001b[39;49m\u001b[39mprocessed\u001b[39;49m\u001b[39m\"\u001b[39;49m))\n\u001b[1;32m     <a href='vscode-notebook-cell:/home/renan/%C3%81rea%20de%20Trabalho/PA-ED-IGTI/kubernetes/spark/files/spark.ipynb#ch0000002?line=19'>20</a>\u001b[0m     \u001b[39m.\u001b[39;49mselect(\u001b[39m\"\u001b[39;49m\u001b[39mtopic\u001b[39;49m\u001b[39m\"\u001b[39;49m, \u001b[39m\"\u001b[39;49m\u001b[39mvalue.active_id\u001b[39;49m\u001b[39m\"\u001b[39;49m, \u001b[39m\"\u001b[39;49m\u001b[39mvalue.size\u001b[39;49m\u001b[39m\"\u001b[39;49m, \u001b[39m\"\u001b[39;49m\u001b[39mvalue.id\u001b[39;49m\u001b[39m\"\u001b[39;49m, \u001b[39m\"\u001b[39;49m\u001b[39mvalue.open\u001b[39;49m\u001b[39m\"\u001b[39;49m)\n\u001b[1;32m     <a href='vscode-notebook-cell:/home/renan/%C3%81rea%20de%20Trabalho/PA-ED-IGTI/kubernetes/spark/files/spark.ipynb#ch0000002?line=20'>21</a>\u001b[0m     \u001b[39m# .select(to_json(struct(expr(\"value.active_id as active_id\"), expr(\"value.size as timeframe\"),\u001b[39;49;00m\n\u001b[1;32m     <a href='vscode-notebook-cell:/home/renan/%C3%81rea%20de%20Trabalho/PA-ED-IGTI/kubernetes/spark/files/spark.ipynb#ch0000002?line=21'>22</a>\u001b[0m     \u001b[39m# expr(\"cast(value.at / 1000000000 as timestamp) as executed_at\"), expr(\"FROM_UNIXTIME(value.from) as candle_from\"), \u001b[39;49;00m\n\u001b[1;32m     <a href='vscode-notebook-cell:/home/renan/%C3%81rea%20de%20Trabalho/PA-ED-IGTI/kubernetes/spark/files/spark.ipynb#ch0000002?line=22'>23</a>\u001b[0m     \u001b[39m# expr(\"FROM_UNIXTIME(value.to) as candle_to\"), expr(\"value.id as period\"), \u001b[39;49;00m\n\u001b[1;32m     <a href='vscode-notebook-cell:/home/renan/%C3%81rea%20de%20Trabalho/PA-ED-IGTI/kubernetes/spark/files/spark.ipynb#ch0000002?line=23'>24</a>\u001b[0m     \u001b[39m# \"value.open\", \"value.close\", \"value.min\", \"value.max\", \"value.ask\", \"value.bid\", \"value.volume\")).alias(\"value\"))\u001b[39;49;00m\n\u001b[1;32m     <a href='vscode-notebook-cell:/home/renan/%C3%81rea%20de%20Trabalho/PA-ED-IGTI/kubernetes/spark/files/spark.ipynb#ch0000002?line=24'>25</a>\u001b[0m     \u001b[39m.\u001b[39;49mwriteStream\u001b[39m.\u001b[39;49mformat(\u001b[39m\"\u001b[39;49m\u001b[39mconsole\u001b[39;49m\u001b[39m\"\u001b[39;49m)\u001b[39m.\u001b[39;49moption(\u001b[39m\"\u001b[39;49m\u001b[39mtruncate\u001b[39;49m\u001b[39m\"\u001b[39;49m, \u001b[39mFalse\u001b[39;49;00m)\u001b[39m.\u001b[39;49mstart()\u001b[39m.\u001b[39;49mawaitTermination() \n\u001b[1;32m     <a href='vscode-notebook-cell:/home/renan/%C3%81rea%20de%20Trabalho/PA-ED-IGTI/kubernetes/spark/files/spark.ipynb#ch0000002?line=25'>26</a>\u001b[0m     )\n",
      "File \u001b[0;32m~/.local/lib/python3.8/site-packages/pyspark/sql/streaming.py:101\u001b[0m, in \u001b[0;36mStreamingQuery.awaitTermination\u001b[0;34m(self, timeout)\u001b[0m\n\u001b[1;32m     99\u001b[0m     \u001b[39mreturn\u001b[39;00m \u001b[39mself\u001b[39m\u001b[39m.\u001b[39m_jsq\u001b[39m.\u001b[39mawaitTermination(\u001b[39mint\u001b[39m(timeout \u001b[39m*\u001b[39m \u001b[39m1000\u001b[39m))\n\u001b[1;32m    100\u001b[0m \u001b[39melse\u001b[39;00m:\n\u001b[0;32m--> 101\u001b[0m     \u001b[39mreturn\u001b[39;00m \u001b[39mself\u001b[39;49m\u001b[39m.\u001b[39;49m_jsq\u001b[39m.\u001b[39;49mawaitTermination()\n",
      "File \u001b[0;32m~/.local/lib/python3.8/site-packages/py4j/java_gateway.py:1303\u001b[0m, in \u001b[0;36mJavaMember.__call__\u001b[0;34m(self, *args)\u001b[0m\n\u001b[1;32m   1296\u001b[0m args_command, temp_args \u001b[39m=\u001b[39m \u001b[39mself\u001b[39m\u001b[39m.\u001b[39m_build_args(\u001b[39m*\u001b[39margs)\n\u001b[1;32m   1298\u001b[0m command \u001b[39m=\u001b[39m proto\u001b[39m.\u001b[39mCALL_COMMAND_NAME \u001b[39m+\u001b[39m\\\n\u001b[1;32m   1299\u001b[0m     \u001b[39mself\u001b[39m\u001b[39m.\u001b[39mcommand_header \u001b[39m+\u001b[39m\\\n\u001b[1;32m   1300\u001b[0m     args_command \u001b[39m+\u001b[39m\\\n\u001b[1;32m   1301\u001b[0m     proto\u001b[39m.\u001b[39mEND_COMMAND_PART\n\u001b[0;32m-> 1303\u001b[0m answer \u001b[39m=\u001b[39m \u001b[39mself\u001b[39;49m\u001b[39m.\u001b[39;49mgateway_client\u001b[39m.\u001b[39;49msend_command(command)\n\u001b[1;32m   1304\u001b[0m return_value \u001b[39m=\u001b[39m get_return_value(\n\u001b[1;32m   1305\u001b[0m     answer, \u001b[39mself\u001b[39m\u001b[39m.\u001b[39mgateway_client, \u001b[39mself\u001b[39m\u001b[39m.\u001b[39mtarget_id, \u001b[39mself\u001b[39m\u001b[39m.\u001b[39mname)\n\u001b[1;32m   1307\u001b[0m \u001b[39mfor\u001b[39;00m temp_arg \u001b[39min\u001b[39;00m temp_args:\n",
      "File \u001b[0;32m~/.local/lib/python3.8/site-packages/py4j/java_gateway.py:1033\u001b[0m, in \u001b[0;36mGatewayClient.send_command\u001b[0;34m(self, command, retry, binary)\u001b[0m\n\u001b[1;32m   1031\u001b[0m connection \u001b[39m=\u001b[39m \u001b[39mself\u001b[39m\u001b[39m.\u001b[39m_get_connection()\n\u001b[1;32m   1032\u001b[0m \u001b[39mtry\u001b[39;00m:\n\u001b[0;32m-> 1033\u001b[0m     response \u001b[39m=\u001b[39m connection\u001b[39m.\u001b[39;49msend_command(command)\n\u001b[1;32m   1034\u001b[0m     \u001b[39mif\u001b[39;00m binary:\n\u001b[1;32m   1035\u001b[0m         \u001b[39mreturn\u001b[39;00m response, \u001b[39mself\u001b[39m\u001b[39m.\u001b[39m_create_connection_guard(connection)\n",
      "File \u001b[0;32m~/.local/lib/python3.8/site-packages/py4j/java_gateway.py:1200\u001b[0m, in \u001b[0;36mGatewayConnection.send_command\u001b[0;34m(self, command)\u001b[0m\n\u001b[1;32m   1196\u001b[0m     \u001b[39mraise\u001b[39;00m Py4JNetworkError(\n\u001b[1;32m   1197\u001b[0m         \u001b[39m\"\u001b[39m\u001b[39mError while sending\u001b[39m\u001b[39m\"\u001b[39m, e, proto\u001b[39m.\u001b[39mERROR_ON_SEND)\n\u001b[1;32m   1199\u001b[0m \u001b[39mtry\u001b[39;00m:\n\u001b[0;32m-> 1200\u001b[0m     answer \u001b[39m=\u001b[39m smart_decode(\u001b[39mself\u001b[39;49m\u001b[39m.\u001b[39;49mstream\u001b[39m.\u001b[39;49mreadline()[:\u001b[39m-\u001b[39m\u001b[39m1\u001b[39m])\n\u001b[1;32m   1201\u001b[0m     logger\u001b[39m.\u001b[39mdebug(\u001b[39m\"\u001b[39m\u001b[39mAnswer received: \u001b[39m\u001b[39m{0}\u001b[39;00m\u001b[39m\"\u001b[39m\u001b[39m.\u001b[39mformat(answer))\n\u001b[1;32m   1202\u001b[0m     \u001b[39mif\u001b[39;00m answer\u001b[39m.\u001b[39mstartswith(proto\u001b[39m.\u001b[39mRETURN_MESSAGE):\n",
      "File \u001b[0;32m/usr/lib/python3.8/socket.py:669\u001b[0m, in \u001b[0;36mSocketIO.readinto\u001b[0;34m(self, b)\u001b[0m\n\u001b[1;32m    667\u001b[0m \u001b[39mwhile\u001b[39;00m \u001b[39mTrue\u001b[39;00m:\n\u001b[1;32m    668\u001b[0m     \u001b[39mtry\u001b[39;00m:\n\u001b[0;32m--> 669\u001b[0m         \u001b[39mreturn\u001b[39;00m \u001b[39mself\u001b[39;49m\u001b[39m.\u001b[39;49m_sock\u001b[39m.\u001b[39;49mrecv_into(b)\n\u001b[1;32m    670\u001b[0m     \u001b[39mexcept\u001b[39;00m timeout:\n\u001b[1;32m    671\u001b[0m         \u001b[39mself\u001b[39m\u001b[39m.\u001b[39m_timeout_occurred \u001b[39m=\u001b[39m \u001b[39mTrue\u001b[39;00m\n",
      "\u001b[0;31mKeyboardInterrupt\u001b[0m: "
     ]
    }
   ],
   "source": [
    "bootstrap_server = '10.108.123.238:9092'\n",
    "\n",
    "topics = [\n",
    "'ingestion_src_api_iq_BTCUSD_1_json', 'ingestion_src_api_iq_BTCUSD_5_json', 'ingestion_src_api_iq_BTCUSD_60_json', 'ingestion_src_api_iq_BTCUSD_300_json', 'ingestion_src_api_iq_BTCUSD_900_json', 'ingestion_src_api_iq_BTCUSD_1800_json', 'ingestion_src_api_iq_BTCUSD_3600_json', 'ingestion_src_api_iq_BTCUSD_14400_json', 'ingestion_src_api_iq_BTCUSD_86400_json',\n",
    "'ingestion_src_api_iq_XRPUSD_1_json', 'ingestion_src_api_iq_XRPUSD_5_json', 'ingestion_src_api_iq_XRPUSD_60_json', 'ingestion_src_api_iq_XRPUSD_300_json', 'ingestion_src_api_iq_XRPUSD_900_json', 'ingestion_src_api_iq_XRPUSD_1800_json', 'ingestion_src_api_iq_XRPUSD_3600_json', 'ingestion_src_api_iq_XRPUSD_14400_json', 'ingestion_src_api_iq_XRPUSD_86400_json',\n",
    "'ingestion_src_api_iq_ETHUSD_1_json', 'ingestion_src_api_iq_ETHUSD_5_json', 'ingestion_src_api_iq_ETHUSD_60_json', 'ingestion_src_api_iq_ETHUSD_300_json', 'ingestion_src_api_iq_ETHUSD_900_json', 'ingestion_src_api_iq_ETHUSD_1800_json', 'ingestion_src_api_iq_ETHUSD_3600_json', 'ingestion_src_api_iq_ETHUSD_14400_json', 'ingestion_src_api_iq_ETHUSD_86400_json',\n",
    "'ingestion_src_api_iq_OMGUSD_1_json', 'ingestion_src_api_iq_OMGUSD_5_json', 'ingestion_src_api_iq_OMGUSD_60_json', 'ingestion_src_api_iq_OMGUSD_300_json', 'ingestion_src_api_iq_OMGUSD_900_json', 'ingestion_src_api_iq_OMGUSD_1800_json', 'ingestion_src_api_iq_OMGUSD_3600_json', 'ingestion_src_api_iq_OMGUSD_14400_json', 'ingestion_src_api_iq_OMGUSD_86400_json',\n",
    "'ingestion_src_api_iq_TRXUSD_1_json', 'ingestion_src_api_iq_TRXUSD_5_json', 'ingestion_src_api_iq_TRXUSD_60_json', 'ingestion_src_api_iq_TRXUSD_300_json', 'ingestion_src_api_iq_TRXUSD_900_json', 'ingestion_src_api_iq_TRXUSD_1800_json', 'ingestion_src_api_iq_TRXUSD_3600_json', 'ingestion_src_api_iq_TRXUSD_14400_json', 'ingestion_src_api_iq_TRXUSD_86400_json',\n",
    "]\n",
    "\n",
    "schema = \"active_id INT, size INT, at STRING, from STRING, to STRING, id INT, open FLOAT, close FLOAT, min FLOAT, max FLOAT, ask FLOAT, bid FLOAT, volume FLOAT, phase STRING\"\n",
    "\n",
    "df = (spark.readStream.format(\"kafka\")\n",
    "    .option(\"kafka.bootstrap.servers\", bootstrap_server)\n",
    "    .option(\"subscribePattern\", \"ingestion_src_api.*\")\n",
    "    .option(\"startingOffsets\", \"latest\")\n",
    "    .load()\n",
    "    .select(col(\"topic\").cast(\"string\"), from_json(col(\"value\").cast(\"string\"), schema).alias(\"value\")) \n",
    "    .withColumn(\"topic\", regexp_replace(\"topic\", \"ingestion\", \"processed\"))\n",
    "    .select(\"topic\", \"value.active_id\", \"value.size\", \"value.id\", \"value.open\")\n",
    "    # .select(to_json(struct(expr(\"value.active_id as active_id\"), expr(\"value.size as timeframe\"),\n",
    "    # expr(\"cast(value.at / 1000000000 as timestamp) as executed_at\"), expr(\"FROM_UNIXTIME(value.from) as candle_from\"), \n",
    "    # expr(\"FROM_UNIXTIME(value.to) as candle_to\"), expr(\"value.id as period\"), \n",
    "    # \"value.open\", \"value.close\", \"value.min\", \"value.max\", \"value.ask\", \"value.bid\", \"value.volume\")).alias(\"value\"))\n",
    "    .writeStream.format(\"console\").option(\"truncate\", False).start().awaitTermination() \n",
    "    )\n",
    "#for topic in topics:\n",
    "# df = (df.select(to_json(struct(expr(\"value.active_id as active_id\"), expr(\"value.size as timeframe\"),\n",
    "#         expr(\"cast(value.at / 1000000000 as timestamp) as executed_at\"), expr(\"FROM_UNIXTIME(value.from) as candle_from\"), \n",
    "#         expr(\"FROM_UNIXTIME(value.to) as candle_to\"), expr(\"value.id as period\"), \n",
    "#         \"value.open\", \"value.close\", \"value.min\", \"value.max\", \"value.ask\", \"value.bid\", \"value.volume\")).alias(\"value\"))\n",
    "#         #.where(\"topic = '{}'\".format(topic))\n",
    "#         #.writeStream.format(\"kafka\").option(\"kafka.bootstrap.servers\", bootstrap_server)\n",
    "#         #.option(\"topic\", df.select(\"topic\")topic.replace('ingestion', 'processed'))\n",
    "#         .option(\"checkpointLocation\", f\"./checkpoint_/\")#{topic.replace('ingestion', 'processed')}\n",
    "#         .start()\n",
    "#         )\n",
    "\n",
    "#"
   ]
  }
 ],
 "metadata": {
  "kernelspec": {
   "display_name": "Python 3.8.10 64-bit",
   "language": "python",
   "name": "python3"
  },
  "language_info": {
   "codemirror_mode": {
    "name": "ipython",
    "version": 3
   },
   "file_extension": ".py",
   "mimetype": "text/x-python",
   "name": "python",
   "nbconvert_exporter": "python",
   "pygments_lexer": "ipython3",
   "version": "3.8.10"
  },
  "orig_nbformat": 4,
  "vscode": {
   "interpreter": {
    "hash": "916dbcbb3f70747c44a77c7bcd40155683ae19c65e1c03b4aa3499c5328201f1"
   }
  }
 },
 "nbformat": 4,
 "nbformat_minor": 2
}
